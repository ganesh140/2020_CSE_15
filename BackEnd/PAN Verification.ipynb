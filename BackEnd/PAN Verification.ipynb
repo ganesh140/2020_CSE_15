{
 "cells": [
  {
   "cell_type": "code",
   "execution_count": 2,
   "metadata": {},
   "outputs": [],
   "source": [
    "import requests \n",
    "from bs4 import BeautifulSoup \n",
    "from selenium import webdriver \n",
    "from selenium.webdriver.common.keys import Keys \n",
    "import time \n",
    "from selenium.webdriver.support.ui import Select\n",
    "from webdriver_manager.chrome import ChromeDriverManager\n",
    "from chromedriver_py import binary_path"
   ]
  },
  {
   "cell_type": "code",
   "execution_count": 3,
   "metadata": {},
   "outputs": [],
   "source": [
    "l=[\"123456789\"]"
   ]
  },
  {
   "cell_type": "code",
   "execution_count": 5,
   "metadata": {},
   "outputs": [
    {
     "name": "stderr",
     "output_type": "stream",
     "text": [
      "<ipython-input-5-f991c606be8a>:6: DeprecationWarning: use options instead of chrome_options\n",
      "  driver = webdriver.Chrome(executable_path=binary_path,chrome_options=options)\n"
     ]
    },
    {
     "name": "stdout",
     "output_type": "stream",
     "text": [
      "Invalid PAN. Please retry.\n"
     ]
    }
   ],
   "source": [
    "url = \"https://www1.incometaxindiaefiling.gov.in/e-FilingGS/Registration/RegistrationHome.html?lang=eng\"\n",
    "  \n",
    "# initiating the webdriver. Parameter includes the path of the webdriver. \n",
    "options = webdriver.ChromeOptions()\n",
    "options.add_argument(\"headless\")\n",
    "driver = webdriver.Chrome(executable_path=binary_path,options=options)  \n",
    "driver.get(url)  \n",
    "# this is just to ensure that the page is loaded \n",
    "time.sleep(3)  \n",
    "html = driver.page_source \n",
    "s=Select(driver.find_element_by_id('userTypeSel'))\n",
    "s.select_by_visible_text('Individual')\n",
    "driver.find_element_by_id('UpdateContactDtls_0').click()\n",
    "time.sleep(3) \n",
    "for i in l:\n",
    "    inputElement = driver.find_element_by_id(\"RegistrationInvidualValidation_userProfile_userId\")\n",
    "    inputElement.send_keys(i)\n",
    "    inputElement = driver.find_element_by_id(\"RegistrationInvidualValidation_userProfile_userPersonalDetails_surName\")\n",
    "    inputElement.send_keys(i)\n",
    "    driver.find_element_by_css_selector(\"input#contact_nriFlagN\").click() \n",
    "    datefield = driver.find_element_by_id('dateField')\n",
    "    datefield.click()\n",
    "    datefield.send_keys(\"01012011\")\n",
    "    driver.find_element_by_id('continue').click()\n",
    "    time.sleep(1)\n",
    "    print(driver.find_element_by_class_name('error').text)\n",
    "    if(driver.find_element_by_class_name('error').text==\"PAN does not exist.\"):\n",
    "        print(\"invalid\")\n",
    "    driver.find_element_by_id(\"RegistrationInvidualValidation_userProfile_userId\").clear();\n",
    "    driver.find_element_by_id(\"RegistrationInvidualValidation_userProfile_userPersonalDetails_surName\").clear();"
   ]
  },
  {
   "cell_type": "code",
   "execution_count": null,
   "metadata": {},
   "outputs": [],
   "source": [
    "RegistrationInvidualValidation_userProfile_userPersonalDetails_surName"
   ]
  },
  {
   "cell_type": "code",
   "execution_count": null,
   "metadata": {},
   "outputs": [],
   "source": [
    "RegistrationInvidualValidation_userProfile_userId"
   ]
  },
  {
   "cell_type": "code",
   "execution_count": 29,
   "metadata": {},
   "outputs": [],
   "source": [
    "inputElement = driver.find_element_by_id(\"RegistrationInvidualValidation_userProfile_userId\")\n",
    "inputElement.send_keys('aazpb9107g')"
   ]
  },
  {
   "cell_type": "code",
   "execution_count": 32,
   "metadata": {},
   "outputs": [],
   "source": [
    "inputElement = driver.find_element_by_id(\"RegistrationInvidualValidation_userProfile_userPersonalDetails_surName\")\n",
    "inputElement.send_keys('aazpb9107g')"
   ]
  },
  {
   "cell_type": "code",
   "execution_count": 33,
   "metadata": {},
   "outputs": [],
   "source": [
    "driver.find_element_by_css_selector(\"input#contact_nriFlagN\").click() "
   ]
  },
  {
   "cell_type": "code",
   "execution_count": 34,
   "metadata": {},
   "outputs": [],
   "source": [
    "datefield = driver.find_element_by_id('dateField')"
   ]
  },
  {
   "cell_type": "code",
   "execution_count": 35,
   "metadata": {},
   "outputs": [],
   "source": [
    "datefield.click()\n",
    "datefield.send_keys(\"01012011\")"
   ]
  },
  {
   "cell_type": "code",
   "execution_count": 36,
   "metadata": {},
   "outputs": [],
   "source": [
    "driver.find_element_by_id('continue').click()"
   ]
  },
  {
   "cell_type": "code",
   "execution_count": 39,
   "metadata": {},
   "outputs": [],
   "source": [
    "html2 = driver.page_source "
   ]
  },
  {
   "cell_type": "code",
   "execution_count": 40,
   "metadata": {},
   "outputs": [
    {
     "data": {
      "text/plain": [
       "'<html lang=\"en\"><head>\\n<meta http-equiv=\"Content-Type\" content=\"text/html; charset=UTF-8\">\\n<title>Registration</title>\\n\\n\\n<link type=\"image/x-icon\" href=\"/favicon.ico\" rel=\"shortcut icon\">\\n\\n\\n\\n<link href=\"https://www.incometaxindiaefiling.gov.in/itax/styles/style.min.css?1815890400000\" rel=\"stylesheet\">\\n\\n\\n\\n\\n\\n<script src=\"https://www.incometaxindiaefiling.gov.in/itax/scripts/ITD_Efiling_Common.js?jsVer=1815890400000\"></script>\\n\\n<script src=\"https://www.incometaxindiaefiling.gov.in/itax/jquery/external/jquery/jquery-2.1.3.min.js\"></script>\\n<script src=\"https://www.incometaxindiaefiling.gov.in/itax/jquery/jquery-ui.min.js\"></script>\\n\\n</head><body oncontextmenu=\"return rightClickDisable()\" ondragstart=\"return false\" onselectstart=\"return false\" style=\"\">\\n\\n\\n<div id=\"disclaimer\" class=\"disp-none\">\\n<p class=\"al-j discFont\">\\nThis is to inform that by clicking on the hyper-link, you will be leaving e-Filing Portal and entering website operated by other parties. Such links are provided only for the convenience of the client and e-Filing Portal does not control or endorse such websites, and is not responsible for their contents. The use of such websites is also subject to the terms of use and other terms and guidlines, if any, contained with in each such website. In the event that any of the terms contained herein conflict with the terms of use or other terms and guidelines contained within any such website, then the terms of use and other terms guidlines for such website shall prevail.\\n</p>\\n</div>\\n<div id=\"disclaimer_Hindi\" class=\"disp-none\">\\n\\t\\t<p class=\"al-j discFont\">यह सूचित किया जाता है कि हाइपर-लिंक पर\\n\\t\\t\\tक्लिक करके, आप ई-फाइलिंग पोर्टल छोड़ेंगे और अन्\\u200dय पक्षकारों द्वारा\\n\\t\\t\\tसंचालित वेबसाइट में प्रवेश करेंगे। ऐसे लिंक केवल ग्राहक की सुविधा के\\n\\t\\t\\tलिए प्रदान किए जाते हैं और ई-फाइलिंग पोर्टल ऐसी वेबसाइटों का नियंत्रण\\n\\t\\t\\tया समर्थन नहीं करता है और उनकी विषय-सामग्री के लिए उत्तरदायी नहीं है।\\n\\t\\t\\tइन वेबसाइटों का प्रयोग ऐसी प्रत्\\u200dयेक वेबसाइट के भीतर निहित प्रयोग की\\n\\t\\t\\tशर्तों तथा अन्\\u200dय शर्तों व दिशा-निर्देशों यदि काई हों, के अध्\\u200dयधीन है।\\n\\t\\t\\tयदि इसमें दी गई कोई भी शर्त, ऐसी किसी वेबसाइट में निहित प्रयोग की\\n\\t\\t\\tशर्तों या अन्\\u200dय शर्तों और दिशा निर्देशों के विरोधाभास में हैं तो ऐसी\\n\\t\\t\\tवेबसाइट के लिए प्रयोग की शर्तें और अन्\\u200dय शर्तें व दिशा-निर्देश\\n\\t\\t\\tप्रचलित रहेंगी।</p>\\n\\t</div>\\n<script type=\"text/javascript\">\\ndocumentReadyFunction();\\n</script>\\n\\n\\n\\n\\t\\n\\n\\n\\t<section id=\"container\">\\n\\t\\t<header id=\"header\">\\n\\t\\t\\t<!-- Header start -->\\n\\n\\t\\t\\t\\n<style>\\n.personalDetails::before {\\n\\tmargin-top: 4px !important\\n}\\n</style>\\n<script type=\"text/javascript\" src=\"https://www.incometaxindiaefiling.gov.in/itax/JqDatePicker/timerClock.min.js?jsVer=1815890400000\"></script>\\n<!-- Style sheet for the counter, REQUIRED -->\\n<link rel=\"stylesheet\" type=\"text/css\" href=\"https://www.incometaxindiaefiling.gov.in/itax/JqDatePicker/timerClock.css\">\\n<script type=\"text/javascript\">\\nvar timeout = 2700;\\n\\tfunction setLanguage(lang) {\\n\\t\\tdocument.cookie = \"lang=\" + lang + \";path=/\";\\n\\t\\treturn;\\n\\t}\\n\\n\\t/* $(document).ready(function() {\\n\\t\\thideDiv();\\n\\t}); */\\n</script>\\n\\n<div class=\"logorow\">\\n\\t<div class=\"fl-l\">\\n\\n\\t\\t\\n\\t\\t\\t<a href=\"https://www.incometaxindiaefiling.gov.in/home\"><img src=\"https://www.incometaxindiaefiling.gov.in/itax/images/efilinglogo.gif\" title=\"e-Filing, Income Tax Department, Government of India\" alt=\"e-Filing, Income Tax Department, Government of India\" height=\"58\"></a>\\n\\t\\t\\n\\t\\t\\n\\t\\t\\n\\n\\t</div>\\n\\n\\t<div class=\"al-r\">\\n\\t\\t<nav>\\n\\t\\t\\t<ul class=\"mart5\">\\n\\n\\t\\t\\t\\t\\n\\n\\t\\t\\t\\t\\t\\n\\t\\t\\t\\t\\t\\n\\t\\t\\t\\t\\t\\t<li class=\"padt5\" id=\"hindi\"><a class=\"skip\" href=\"/e-FilingGS/Services/ChangeToHindi.html\" onclick=\"setLanguage(\\'hindi\\')\"> <img src=\"https://www.incometaxindiaefiling.gov.in/itax/images/hindi_logo.png\" alt=\"Hindi\">\\n\\t\\t\\t\\t\\t\\t</a></li>\\n\\t\\t\\t\\t\\t\\n\\t\\t\\t\\t\\n\\n\\n\\t\\t\\t\\t\\n\\t\\t\\t\\t\\n\\t\\t\\t\\t<div class=\"dropdown\">\\n\\t\\t\\t\\t\\t<li class=\"abtsss\">About Us</li>\\n\\t\\t\\t\\t\\t<div class=\"dropdown-content\">\\n\\n\\n\\n\\t\\t\\t\\t\\t\\t\\n\\t\\t\\t\\t\\t\\t\\t<a href=\"https://www.incometaxindiaefiling.gov.in/main/aboutUs\"> About this portal</a>\\n\\t\\t\\t\\t\\t\\n\\t\\t\\t\\t\\t\\t<a onclick=\"openDisclaimer(\\'https://www.incometaxindia.gov.in/Pages/about-us/history-of-direct-taxation.aspx\\')\" href=\"javascript:void(0)\"> History of Direct Taxation\\n\\t\\t\\t\\t\\t\\t</a> <a onclick=\"openDisclaimer(\\'https://www.incometaxindia.gov.in/Documents/vision-mission-values-2020-07012011.pdf\\')\" href=\"javascript:void(0)\"> Vision, Mission, Values\\n\\t\\t\\t\\t\\t\\t</a> <a onclick=\"openDisclaimer(\\'https://www.incometaxindia.gov.in/Pages/about-us/who-we-are.aspx\\')\" href=\"javascript:void(0)\"> Who we are\\n\\t\\t\\t\\t\\t\\t</a> <a onclick=\"openDisclaimer(\\'https://www.incometaxindia.gov.in/Pages/right-to-information.aspx\\')\" href=\"javascript:void(0)\"> Right to Information\\n\\t\\t\\t\\t\\t\\t</a> <a onclick=\"openDisclaimer(\\'https://www.incometaxindia.gov.in/Pages/about-us/index.aspx\\')\" href=\"javascript:void(0)\"> Organization &amp; Functions\\n\\t\\t\\t\\t\\t\\t</a>\\n\\t\\t\\t\\t\\t</div>\\n\\t\\t\\t\\t</div>\\n\\t\\t\\t\\t\\n\\t\\t\\t\\t<li><a href=\"/e-FilingGS/Services/Feedback.html\"> Feedback\\n\\t\\t\\t\\t</a></li>\\n\\t\\t\\t\\t\\n\\t\\t\\t\\t\\t<li><a href=\"https://www.incometaxindiaefiling.gov.in/accessibilityOptions\"> Accessibility Options\\n\\t\\t\\t\\t\\t</a></li>\\n\\t\\t\\t\\t\\t<li><a href=\"https://www.incometaxindiaefiling.gov.in/main/contactUs\"> Contact Us\\n\\t\\t\\t\\t\\t</a></li>\\n\\t\\t\\t\\t\\n\\n\\t\\t\\t\\t\\n\\n\\n\\n\\t\\t\\t\\t\\n\\t\\t\\t\\t\\t<li><a href=\"/e-FilingGS/Services/eNivaranHomePrelogin.html\">\\n\\t\\t\\t\\t\\t\\t\\te-Nivaran\\n\\t\\t\\t\\t\\t</a></li>\\n\\t\\t\\t\\t\\t\\t\\t\\t\\t<li> \\n\\t\\t\\t\\t\\t\\t<a href=\"https://www.incometaxindiaefiling.gov.in/help/\"> Help\\n\\t\\t\\t\\t\\t\\t</a>\\n\\t\\t\\t\\t\\t</li>\\n\\n\\t\\t\\t\\t\\n\\t\\t\\t\\t\\n\\n\\n\\t\\t\\t</ul>\\n\\t\\t</nav>\\n\\t\\t&nbsp;\\n\\t\\t\\n\\t\\t<div class=\"personalDetails\">\\n\\t\\t\\t<div style=\"padding-top: 7px;\">\\n\\t\\t\\t\\t<a href=\"https://portal.incometaxindiaefiling.gov.in/e-Filing/UserLogin/LoginHome.html\"> Login\\n\\t\\t\\t\\t</a> | <a href=\"/e-FilingGS/Registration/RegistrationHome.html\"> Register\\n\\t\\t\\t\\t</a>\\n\\t\\t\\t</div>\\n\\t\\t</div>\\n\\t\\t\\n\\t\\t\\n\\t\\t\\n\\t</div>\\n\\n</div>\\n<script>\\n\\t\\t\\tfunction openStaticContent(url){\\n\\t\\t\\t\\t$(\\'#staticContent\\').load(url);\\n\\t\\t\\t\\t$(\\'#staticContent\\').show();\\n\\t\\t\\t\\t$(\\'#dynamicContent\\').hide();\\n\\t\\t\\t}\\n\\t\\t</script>\\n\\t\\t\\t\\t\\n\\n\\n\\n\\n\\n\\t<script>\\n \\tvar baseUrl = \"\";\\n </script>\\n<div class=\"navrow\">\\n\\t<ul class=\"menu\">\\n\\t\\t<li>\\n\\t\\t\\t<p>\\n\\t\\t\\t\\t<a href=\"https://www.incometaxindiaefiling.gov.in/home\"><span>Home</span></a>\\n\\t\\t\\t</p>\\n\\t\\t</li>\\n\\n\\t\\t<li>\\n\\t\\t\\t<p>\\n\\t\\t\\t\\t<a href=\"https://www.incometaxindiaefiling.gov.in/downloads\"><span>Downloads</span></a>\\n\\t\\t\\t</p>\\n\\t\\t</li>\\n\\t\\t<li>\\n\\t\\t\\t<p>\\n\\t\\t\\t\\t<a href=\"https://www.incometaxindiaefiling.gov.in/moreNewsUpdates\"><span>News &amp; Updates</span></a>\\n\\t\\t\\t</p>\\n\\t\\t</li>\\n\\t</ul>\\n</div>\\n\\n\\n\\n\\t\\t\\n\\t\\t\\t<!-- Header end -->\\n\\t\\t</header>\\n\\t\\t<div id=\"bodyContent\" class=\"rightColumn\"><a name=\"main\"></a>\\n\\t\\t\\t<!-- Body start -->\\n\\n\\t\\t\\t<!-- <section class=\"ltcol\">\\n\\n\\t<section class=\"greencol\">\\n\\t\\t<h1>Quick Link</h1>\\n\\t\\t<ul class=\"clickableList\">\\n\\t\\t\\t<li><a href=\"javascript:void(0)\"\\n\\t\\t\\t\\tonclick=\"getStaticPage(\\'TaxCalculator.html\\')\">Tax Calculator</a></li>\\n\\t\\t\\t<li><a href=\"javascript:void(0)\"\\n\\t\\t\\t\\tonclick=\"getStaticPage(\\'ApplyOnlinePAN_TAN.html\\')\">Apply Online - PAN/TAN</a></li>\\n\\t\\t\\t<li><a href=\"javascript:void(0)\" onclick=\"getStaticPage(\\'EPayTaxConfirm.html\\')\">E-Pay Tax</a></li>\\n\\t\\t\\t<li><a href=\"https://portal.incometaxindiaefiling.gov.in/e-Filing/UserLogin/LoginHome.html?nextPage=taxCred\">View Form 26AS (Tax Credit)</a></li>\\n\\t\\t</ul>\\n\\t</section>\\n\\n\\n\\n\\n\\n\\n\\n <div class=\"assistance\" style=\"display: none\">\\n        <h1 align=\"center\">Need Assistance?</h1>\\n        <p align=\"center\">For Income tax related queries <br><strong>ASK : 1800 180 1961</strong></p><br>\\n <p align=\"center\">For Rectification and Refund<br><strong>CPC : 1800 103 4455</strong></p><br>\\n <p align=\"center\">For e-Filing of Returns<br> <strong>e-Filing : <br> &nbsp;&nbsp;&nbsp;&nbsp;&nbsp;&nbsp;&nbsp;&nbsp;&nbsp;&nbsp;&nbsp;&nbsp;+91-80-46605200</strong></p>\\n        <p></p>\\n </div>\\n </section>\\n\\n\\n\\n\\n  -->\\n\\n\\t\\t\\t\\n\\n\\n<div class=\"rightColmn\" id=\"staticContentsUrl\">\\n\\n\\t<div>\\t\\t\\n\\t\\t\\n\\t\\t\\t\\t<h1 id=\"englishcontent\">\\n\\t\\t\\t\\t\\tRegistration Form -  <span> Individual\\n\\t\\t\\t</span>\\n\\t\\t\\t\\t</h1>\\n\\t\\t\\t\\n\\t\\t\\t\\n\\t</div>\\n\\n\\t<div class=\"steps\">\\n\\t\\t<ul>\\n\\t\\t\\t<li class=\"current\">Step 1: Enter Basic Details</li>\\n\\t\\t\\t<li class=\"\">Step 2: Registration Form</li>\\n\\t\\t\\t<li class=\"\">Step 3: Registration Verification</li>\\n\\t\\t\\t<li class=\"\">Step 4: Registration Successful</li>\\n\\t\\t</ul>\\n\\t</div>\\n\\n\\t<div class=\"col1 greyBorder\">\\n\\t\\t<div class=\"whitebg mar5\">\\n\\t\\t\\t\\n\\n\\t\\n\\n\\n\\n\\n\\n\\n\\t\\t<script type=\"text/javascript\" src=\"https://www.incometaxindiaefiling.gov.in/itax/scripts/validation.js?jsid=1815890400000\"></script>\\n\\t<script type=\"text/javascript\" src=\"https://www.incometaxindiaefiling.gov.in/itax/scripts/pagewiseJS/RegIndHome.js?1815890400000\"></script>\\n\\t\\t\\t\\n<form id=\"RegistrationInvidualValidation\" name=\"RegIndHome\" onsubmit=\"return validateForm_RegistrationInvidualValidation(this) &amp;&amp; disableFormSubmit(this)\" action=\"/e-FilingGS/Registration/RegistrationInvidualValidation.html\" method=\"post\" enctype=\"multipart/form-data\" autocomplete=\"off\" onreset=\"clearErrorMessages(this);clearErrorLabels(this);\">\\n<table cellspacing=\"0\" cellpadding=\"0\" width=\"100%\" class=\"grid\">\\n\\n\\n\\t\\n\\t<tbody><tr>\\n\\t\\t<td>\\n\\t\\t\\t<fieldset>\\n\\t\\t\\t\\t<legend>\\n\\t\\t\\t\\tPlease provide below details as per your PAN.</legend>\\n\\t\\t\\t</fieldset></td>\\n\\t</tr>\\n\\n\\t<tr style=\"display: none;\">\\n<td>\\n<input type=\"hidden\" name=\"requestId\" value=\"1167895257\" id=\"RegistrationInvidualValidation_requestId\">\\n</td>\\n</tr>\\n\\n\\t\\n\\n<tr>\\n      <td>\\n<div errorfor=\"RegistrationInvidualValidation_userProfile_userId\" class=\"error\">\\n PAN does not exist.</div>\\n\\n\\t<div class=\"label\">\\n<label for=\"RegistrationInvidualValidation_userProfile_userId\">    \\t\\n\\t\\t\\n\\t\\t\\tPAN\\n\\n\\t\\t\\n<span class=\"mandatory\">*</span>\\t\\t\\t\\n\\t\\t</label>\\t\\n\\t</div>\\n\\n\\n<div class=\"field\">\\n\\t\\t\\n\\n<input type=\"text\" autocomplete=\"off\" name=\"userProfile.userId\" maxlength=\"10\" value=\"AAZPB9107E\" onblur=\"validateField_userProfile_userId(this,true)\" id=\"RegistrationInvidualValidation_userProfile_userId\" onkeypress=\"return onlyNumbersChars(event)\" onchange=\"this.value=this.value.toUpperCase();\">\\n\\n\\t\\n</div>\\n\\t\\n\\t\\n\\t\\n\\n\\t\\n\\t\\n</td>\\n    \\n</tr>\\n\\n\\n\\t\\n\\n<tr>\\n      <td>\\n\\n\\t<div class=\"label\">\\n<label for=\"RegistrationInvidualValidation_userProfile_userPersonalDetails_surName\">    \\t\\n\\t\\t\\n\\t\\t\\tSurname\\n\\n\\t\\t\\n<span class=\"mandatory\">*</span>\\t\\t\\t\\n\\t\\t</label>\\t\\n\\t</div>\\n\\n\\n<div class=\"field\">\\n\\t\\t\\n\\n<input type=\"text\" autocomplete=\"off\" name=\"userProfile.userPersonalDetails.surName\" maxlength=\"75\" value=\"AAZPB9107G\" onblur=\"validateField_userProfile_userPersonalDetails_surName(this,true)\" id=\"RegistrationInvidualValidation_userProfile_userPersonalDetails_surName\" onkeypress=\"return onlyName(event)\" onchange=\"this.value=this.value.toUpperCase();\">\\n\\n\\t\\n</div>\\n\\t\\n\\t\\n\\t\\n\\n\\t\\n\\t\\n</td>\\n    \\n</tr>\\n\\n\\t\\t\\n\\t\\n\\n<tr>\\n      <td>\\n\\n\\t<div class=\"label\">\\n<label for=\"RegistrationInvidualValidation_userProfile_userPersonalDetails_middleName\">    \\t\\n\\t\\t\\n\\t\\t\\tMiddle Name\\n\\n\\t\\t\\n\\t\\t\\t\\n\\t\\t</label>\\t\\n\\t</div>\\n\\n\\n<div class=\"field\">\\n\\t\\t\\n\\n<input type=\"text\" autocomplete=\"off\" name=\"userProfile.userPersonalDetails.middleName\" maxlength=\"25\" value=\"\" onblur=\"validateField_userProfile_userPersonalDetails_middleName(this,true)\" id=\"RegistrationInvidualValidation_userProfile_userPersonalDetails_middleName\" onkeypress=\"return onlyMidName(event)\">\\n\\n\\t\\n</div>\\n\\t\\n\\t\\n\\t\\n\\n\\t\\n\\t\\n</td>\\n    \\n</tr>\\n\\n\\t\\t\\n\\t\\n\\n<tr>\\n      <td>\\n\\n\\t<div class=\"label\">\\n<label for=\"RegistrationInvidualValidation_userProfile_userPersonalDetails_firstName\">    \\t\\n\\t\\t\\n\\t\\t\\tFirst Name\\n\\n\\t\\t\\n\\t\\t\\t\\n\\t\\t</label>\\t\\n\\t</div>\\n\\n\\n<div class=\"field\">\\n\\t\\t\\n\\n<input type=\"text\" autocomplete=\"off\" name=\"userProfile.userPersonalDetails.firstName\" maxlength=\"25\" value=\"\" onblur=\"validateField_userProfile_userPersonalDetails_firstName(this,true)\" id=\"RegistrationInvidualValidation_userProfile_userPersonalDetails_firstName\" onkeypress=\"return onlyName(event)\">\\n\\n\\t\\n</div>\\n\\t\\n\\t\\n\\t\\n\\n\\t\\n\\t\\n</td>\\n    \\n</tr>\\n\\n\\n\\t\\n\\n<tr>\\n      <td>\\n\\n\\t<div class=\"label\">\\n<label for=\"dateField\">    \\t\\n\\t\\t\\n\\t\\t\\tDate of Birth\\n \\t\\t\\t(DD/MM/YYYY)\\n\\n\\t\\t\\n<span class=\"mandatory\">*</span>\\t\\t\\t\\n\\t\\t</label>\\t\\n\\t</div>\\n\\n\\n<div class=\"field\">\\n\\t\\t\\n\\n<input type=\"text\" autocomplete=\"off\" name=\"userProfile.userPersonalDetails.dateOfBirth\" maxlength=\"10\" value=\"01/01/2011\" onchange=\"validateField_userProfile_userPersonalDetails_dateOfBirth(this,true)\" id=\"dateField\" class=\"date hasDatepicker\" onkeypress=\"return onlyDate(event)\"><img class=\"ui-datepicker-trigger\" src=\"https://www.incometaxindiaefiling.gov.in/itax/images/calendar.png\" alt=\"Choose\" title=\"Choose\">\\n\\n\\t\\n</div>\\n\\t\\n\\t\\n\\t\\n\\n\\t\\n\\t\\n</td>\\n    \\n</tr>\\n\\n\\n\\t\\n\\n<tr>\\n      <td>\\n\\n\\t<div class=\"label\">\\n<label for=\"contact_nriFlag\">    \\t\\n\\t\\t\\n\\t\\t\\tResidential Status\\n\\n\\t\\t\\n<span class=\"mandatory\">*</span>\\t\\t\\t\\n\\t\\t</label>\\t\\n\\t</div>\\n\\n\\n<div class=\"field\">\\n\\t\\t\\n\\n<input type=\"radio\" name=\"userProfile.nriFlag\" id=\"contact_nriFlagN\" checked=\"checked\" value=\"N\" onchange=\"validateField_userProfile_nriFlag(document.forms[0].elements[\\'userProfile.nriFlag\\'],false)\" style=\"margin-left:5px; padding-top: 5px;padding-bottom: 5px;\"><label for=\"contact_nriFlagN\">Resident</label>\\n<input type=\"radio\" name=\"userProfile.nriFlag\" id=\"contact_nriFlagY\" value=\"Y\" onchange=\"validateField_userProfile_nriFlag(document.forms[0].elements[\\'userProfile.nriFlag\\'],false)\" style=\"margin-left:5px; padding-top: 5px;padding-bottom: 5px;\"><label for=\"contact_nriFlagY\">Non Resident</label>\\n\\t\\n</div>\\n\\t\\n\\t\\n\\t\\n\\n\\t\\n\\t\\n</td>\\n    \\n</tr>\\n\\n\\n\\t\\n\\t<tr>\\n\\n    <td class=\"white\"><div class=\"actions\"> <input type=\"submit\" value=\"Continue\" id=\"continue\" name=\"continue\" class=\"btnOrange\" align=\"center\">\\n\\t\\n</div>\\n\\t\\n\\t\\n\\t\\n\\n\\t\\n\\t\\n</td>\\n    \\n</tr>\\n\\n\\n</tbody></table></form>\\n\\n\\n\\n\\n\\t\\n<script type=\"text/javascript\">\\n$( document ).ready(function() {\\n\\t$(\"#dateField1\").datepicker({\\n\\t\\tshowOn : \"button\",\\n\\t\\tbuttonImage : \"https://www.incometaxindiaefiling.gov.in/itax/images/calendar.png\",\\n\\t\\tbuttonImageOnly : true,\\n\\t\\tchangeMonth : true,\\n\\t\\tchangeYear : true,\\n\\t\\tyearRange : \"-150:\",\\n\\t\\tdateFormat : \"dd/mm/yy\",\\n\\t\\tbuttonText : \"Choose\",\\n\\t\\tshowOtherMonths : true,\\n\\t\\tselectOtherMonths : true\\t\\n\\t});\\n\\n\\t$(\\'#dateField1\\').mask(\\'00/00/0000\\');\\n});\\n\\n</script>\\n\\t\\n\\t\\t</div>\\n\\t</div>\\n\\t<div class=\"col2\">\\n\\t\\t\\n<h2>Instructions</h2>\\n<ul class=\"redbullets\">\\n\\t <li>Fields marked with asterisk<span class=\"mandatory\">(*)</span>\\n\\t\\tare mandatory</li>\\n</ul>\\n\\n\\t</div>\\n\\n</div>\\n\\n\\n<style>\\n.rightColmn {  margin-left: 5px; width: 978px; margin-top: 10px; }\\n.rightColmn h1 { border-bottom: 1px dashed #333; }\\n.rightColmn a { color: #a42d18; }\\n.rightColmn p { margin: 10px 0; }\\n.rightColmn ol { margin-left: 20px; line-height: 20px; margin-bottom: 10px; padding-left: 10px; }\\n.rightColmn ol li { padding-bottom: 5px; }\\n.rightColmn .col1 { float: left; width: 610px; border: 5px solid #f0f0f0; padding: 5px; }\\n.rightColmn .col2 { float: left; margin-left: 15px; width: 310px;   }\\n.rightColmn .two-columns { width: 360px; margin-top: 10px; }\\n </style>\\n\\n\\t\\t</div>\\n\\t\\t<div class=\"push\"></div>\\n\\t\\t      <map id=\"FontMap\" name=\"FontMap\">\\n           <area alt=\"Minimize\" onclick=\"javascript:changeFontSize(-1,-1);\" coords=\"5,4,22,15\" href=\"javascript:void(0)\" shape=\"rect\">\\n           <area alt=\"Standard\" onclick=\"javascript:resetFonSize();\" coords=\"26,2,43,16\" href=\"javascript:void(0)\" shape=\"rect\">\\n           <area alt=\"Maximize\" onclick=\"javascript:changeFontSize(1,1);\" coords=\"48,3,66,15\" href=\"javascript:void(0)\" shape=\"rect\">\\n   \\t\\t  </map>\\n\\n\\t</section>\\n\\n\\n<footer id=\"footer\">\\n\\t<div class=\"footerlinks footer_owner\">\\n\\t\\t<table class=\"tbl_footer\">\\n\\t\\t\\t<tbody><tr>\\n\\t\\t\\t\\t\\n\\t\\t\\t\\t<td class=\"al-l\"><a href=\"javascript:void(0)\" onclick=\"getStaticPage(\\'NationalGov.html\\')\"><img src=\"https://www.incometaxindiaefiling.gov.in/itax/images/indiagoin.jpg\" height=\"57\" alt=\"india.gov.in\" class=\"va-c\"></a></td>\\n\\t\\t\\t\\t<td class=\"al-c\" style=\"font-weight:normal\">\\n\\t\\t\\t\\t <div>\\n\\t\\t\\t\\t\\t<a href=\"javascript:void(0)\" onclick=\"getStaticPage(\\'WebsitePolicy.html\\')\">Website Policies</a> |\\n\\t\\t\\t\\t<!--  \\t<a href=\"javascript:void(0)\" onclick=\"getStaticPage(\\'Grievance.html\\')\">Grievance</a> | -->\\n\\t\\t\\t\\t\\t<a href=\"javascript:void(0)\" onclick=\"getStaticPage(\\'Accessibility_Statement.html\\')\">Accessibility Statement</a> |\\n\\t\\t\\t\\t\\t<!-- <a href=\"javascript:void(0)\" onclick=\"getStaticPage(\\'UsefulLinks.html\\')\">Useful Links</a> | -->\\n\\t\\t\\t\\t<!--  \\t<a href=\"javascript:void(0)\" onclick=\"getStaticPage(\\'TermsOfUse.html\\')\">Terms of Use</a> | -->\\n\\t\\t\\t\\t\\t<a href=\"https://portal.incometaxindiaefiling.gov.in/e-Filing/Services/SiteMapLink.html\">Site Map</a> \\n\\t\\t\\t\\t<!-- <a href=\"javascript:void(0)\" onclick=\"getStaticPage(\\'Disclaimer.html\\')\">Disclaimer</a> -->\\n\\t\\t\\t\\t</div>\\n\\t\\t\\t\\t<div> Copyright @  Income Tax Department, Ministry of Finance,Government of India. All Rights Reserved</div>\\n\\t\\t\\t\\t<div>Site Last Updated on  23/02/2021</div>\\n\\t\\t\\t\\t<div> This site is best viewed in latest version of Chrome, Firefox, Safari and Internet Explorer.</div>\\n\\t\\t\\t\\t</td>\\n\\t\\t\\t\\t\\n\\t\\t\\t\\t\\n\\t\\t\\t\\t<td class=\"al-r va-c\"><a href=\"https://www.incometaxindiaefiling.gov.in/eFiling/Portal/StaticPDF/CQW_71_Income_Tax.pdf\" target=\"_blank\"><img class=\"va-c\" src=\"https://www.incometaxindiaefiling.gov.in/itax/images/CQW_Certificate_New1_logo.png\" alt=\"CQW 71 Income Tax Certificate\"></a></td>\\n\\n\\n\\t\\t\\t\\t<td class=\"al-r va-c\"><a href=\"https://www.entrust.net/customer/profile.cfm?domain=incometaxindiaefiling.gov.in&amp;lang=en\" target=\"_blank\"><img class=\"va-c\" src=\"https://www.incometaxindiaefiling.gov.in/itax/images/entrust.png\" alt=\"Entrust Certificate\"></a></td>\\n\\t\\t\\t\\t\\t\\t\\t\\n\\t\\t\\t\\t\\t\\t\\t<td class=\"al-r va-c\"><img class=\"va-c\" src=\"https://www.incometaxindiaefiling.gov.in/itax/images/Certificates-ISO.jpg\" alt=\"ISO Certificates\" usemap=\"#Map10\">\\n\\t\\t\\t\\t\\t\\t\\t<map name=\"Map10\">\\n\\t\\t\\t\\t\\t\\t\\t<area shape=\"poly\" coords=\"56,3,53,52,100,53,117,26,100,4\" href=\"https://www.incometaxindiaefiling.gov.in/eFiling/Portal/StaticPDF/ISO-Certificates/20000.pdf\" alt=\"List of ERI\" title=\"PDF file opens in a new window\" target=\"_blank\">\\n\\t\\t\\t\\t\\t\\t\\t\\n\\t\\t\\t\\t\\t\\t\\t<area shape=\"poly\" coords=\"118,3,159,3,179,27,159,51,119,50\" href=\"https://www.incometaxindiaefiling.gov.in/eFiling/Portal/StaticPDF/ISO-Certificates/22301.pdf\" alt=\"List of ERI\" title=\"PDF file opens in a new window\" target=\"_blank\">\\n\\t\\t\\t\\t\\t\\t\\t\\n\\t\\t\\t\\t\\t\\t\\t<area shape=\"poly\" coords=\"181,5,215,3,240,25,221,49,182,50\" href=\"https://www.incometaxindiaefiling.gov.in/eFiling/Portal/StaticPDF/ISO-Certificates/27001.pdf\" alt=\"List of ERI\" title=\"PDF file opens in a new window\" target=\"_blank\"></map>\\n\\t\\t\\t\\t\\t\\t\\t</td>\\n\\t\\t\\t\\t\\t\\t\\t\\n\\t\\t\\t</tr>\\n\\t\\t</tbody></table>\\n\\t</div>\\n\\t\\n\\t\\t\\t\\n\\t<div class=\"footer_viewdetails\"></div>\\n</footer>\\n\\n\\n\\n<style>\\n.rightColumn { margin-left: 0px; width: 970px !important; margin-top: 10px; border-style: solid;border-width: 0.1em;padding-top: 4px;\\n    padding-right: 4px;\\n    padding-bottom: 4px;\\n    padding-left: 4px; border-color: #D3D3D3;}\\n.rightColumn h1 { border-bottom: 1px dashed #333; width:98%; }\\n.rightColumn a { color: #a42d18; }\\n.rightColumn p { margin: 10px 0; }\\n.rightColumn ol { margin-left: 20px; line-height: 20px; margin-bottom: 10px; padding-left: 10px; }\\n.rightColumn ol li { padding-bottom: 5px; }\\n.rightColumn .col1 { float: left; width: 610px; border: 5px solid #f0f0f0; padding: 5px; }\\n.rightColumn .col2 { float: left; margin-left: 15px; width: 310px;   }\\n.rightColumn .two-columns { width: 360px; margin-top: 10px; }\\n </style>\\n<div class=\"ui-dialog ui-widget ui-widget-content ui-corner-all ui-front noclose ui-draggable ui-resizable\" tabindex=\"-1\" role=\"dialog\" aria-describedby=\"loading\" aria-labelledby=\"ui-id-1\" style=\"display: none; position: absolute;\"><div class=\"ui-dialog-titlebar ui-widget-header ui-corner-all ui-helper-clearfix ui-draggable-handle\"><span id=\"ui-id-1\" class=\"ui-dialog-title\">Loading ...</span><button type=\"button\" class=\"ui-button ui-widget ui-state-default ui-corner-all ui-button-icon-only ui-dialog-titlebar-close\" role=\"button\" title=\"Close\"><span class=\"ui-button-icon-primary ui-icon ui-icon-closethick\"></span><span class=\"ui-button-text\">Close</span></button></div><div id=\"loading\" class=\"disp-none ui-dialog-content ui-widget-content\" style=\"display: block;\">\\n  <div class=\"al-c\">\\n  <img src=\"https://www.incometaxindiaefiling.gov.in/itax/images/wait.gif\" alt=\"Loading ...\">\\n  </div>\\n</div><div class=\"ui-resizable-handle ui-resizable-n\" style=\"z-index: 90;\"></div><div class=\"ui-resizable-handle ui-resizable-e\" style=\"z-index: 90;\"></div><div class=\"ui-resizable-handle ui-resizable-s\" style=\"z-index: 90;\"></div><div class=\"ui-resizable-handle ui-resizable-w\" style=\"z-index: 90;\"></div><div class=\"ui-resizable-handle ui-resizable-se ui-icon ui-icon-gripsmall-diagonal-se\" style=\"z-index: 90;\"></div><div class=\"ui-resizable-handle ui-resizable-sw\" style=\"z-index: 90;\"></div><div class=\"ui-resizable-handle ui-resizable-ne\" style=\"z-index: 90;\"></div><div class=\"ui-resizable-handle ui-resizable-nw\" style=\"z-index: 90;\"></div></div><div class=\"ui-dialog ui-widget ui-widget-content ui-corner-all ui-front noclose ui-draggable ui-resizable\" tabindex=\"-1\" role=\"dialog\" aria-describedby=\"savingDraft\" aria-labelledby=\"ui-id-2\" style=\"display: none; position: absolute;\"><div class=\"ui-dialog-titlebar ui-widget-header ui-corner-all ui-helper-clearfix ui-draggable-handle\"><span id=\"ui-id-2\" class=\"ui-dialog-title\">Saving Draft ...</span><button type=\"button\" class=\"ui-button ui-widget ui-state-default ui-corner-all ui-button-icon-only ui-dialog-titlebar-close\" role=\"button\" title=\"Close\"><span class=\"ui-button-icon-primary ui-icon ui-icon-closethick\"></span><span class=\"ui-button-text\">Close</span></button></div><div id=\"savingDraft\" class=\"disp-none ui-dialog-content ui-widget-content\" style=\"display: block;\">\\n  <div align=\"center\">\\n  <img src=\"https://www.incometaxindiaefiling.gov.in/itax/images/wait.gif\" alt=\"Loading ...\">\\n  </div>\\n</div><div class=\"ui-resizable-handle ui-resizable-n\" style=\"z-index: 90;\"></div><div class=\"ui-resizable-handle ui-resizable-e\" style=\"z-index: 90;\"></div><div class=\"ui-resizable-handle ui-resizable-s\" style=\"z-index: 90;\"></div><div class=\"ui-resizable-handle ui-resizable-w\" style=\"z-index: 90;\"></div><div class=\"ui-resizable-handle ui-resizable-se ui-icon ui-icon-gripsmall-diagonal-se\" style=\"z-index: 90;\"></div><div class=\"ui-resizable-handle ui-resizable-sw\" style=\"z-index: 90;\"></div><div class=\"ui-resizable-handle ui-resizable-ne\" style=\"z-index: 90;\"></div><div class=\"ui-resizable-handle ui-resizable-nw\" style=\"z-index: 90;\"></div></div><div class=\"ui-dialog ui-widget ui-widget-content ui-corner-all ui-front noclose ui-draggable ui-resizable\" tabindex=\"-1\" role=\"dialog\" aria-describedby=\"prefillingData\" aria-labelledby=\"ui-id-3\" style=\"display: none; position: absolute;\"><div class=\"ui-dialog-titlebar ui-widget-header ui-corner-all ui-helper-clearfix ui-draggable-handle\"><span id=\"ui-id-3\" class=\"ui-dialog-title\">Prefilling data from ITR ...</span><button type=\"button\" class=\"ui-button ui-widget ui-state-default ui-corner-all ui-button-icon-only ui-dialog-titlebar-close\" role=\"button\" title=\"Close\"><span class=\"ui-button-icon-primary ui-icon ui-icon-closethick\"></span><span class=\"ui-button-text\">Close</span></button></div><div id=\"prefillingData\" class=\"disp-none ui-dialog-content ui-widget-content\" style=\"display: block;\">\\n  <div align=\"center\">\\n  <img src=\"https://www.incometaxindiaefiling.gov.in/itax/images/wait.gif\" alt=\"Loading ...\">\\n  </div>\\n</div><div class=\"ui-resizable-handle ui-resizable-n\" style=\"z-index: 90;\"></div><div class=\"ui-resizable-handle ui-resizable-e\" style=\"z-index: 90;\"></div><div class=\"ui-resizable-handle ui-resizable-s\" style=\"z-index: 90;\"></div><div class=\"ui-resizable-handle ui-resizable-w\" style=\"z-index: 90;\"></div><div class=\"ui-resizable-handle ui-resizable-se ui-icon ui-icon-gripsmall-diagonal-se\" style=\"z-index: 90;\"></div><div class=\"ui-resizable-handle ui-resizable-sw\" style=\"z-index: 90;\"></div><div class=\"ui-resizable-handle ui-resizable-ne\" style=\"z-index: 90;\"></div><div class=\"ui-resizable-handle ui-resizable-nw\" style=\"z-index: 90;\"></div></div><div id=\"ui-datepicker-div\" class=\"ui-datepicker ui-widget ui-widget-content ui-helper-clearfix ui-corner-all\"></div></body></html>'"
      ]
     },
     "execution_count": 40,
     "metadata": {},
     "output_type": "execute_result"
    }
   ],
   "source": [
    "html2"
   ]
  },
  {
   "cell_type": "code",
   "execution_count": 41,
   "metadata": {},
   "outputs": [
    {
     "data": {
      "text/plain": [
       "'PAN does not exist.'"
      ]
     },
     "execution_count": 41,
     "metadata": {},
     "output_type": "execute_result"
    }
   ],
   "source": [
    "driver.find_element_by_class_name('error').text"
   ]
  },
  {
   "cell_type": "code",
   "execution_count": 43,
   "metadata": {},
   "outputs": [],
   "source": [
    "driver.find_element_by_id(\"RegistrationInvidualValidation_userProfile_userId\").clear();"
   ]
  },
  {
   "cell_type": "code",
   "execution_count": 18,
   "metadata": {},
   "outputs": [
    {
     "name": "stdout",
     "output_type": "stream",
     "text": [
      "Collecting chromedriver-py==90.0.4430.24\n",
      "  Downloading chromedriver_py-90.0.4430.24-py3-none-any.whl (19.8 MB)\n",
      "Installing collected packages: chromedriver-py\n",
      "Successfully installed chromedriver-py-90.0.4430.24\n",
      "Note: you may need to restart the kernel to use updated packages.\n"
     ]
    }
   ],
   "source": [
    "pip install chromedriver-py==90.0.4430.24"
   ]
  },
  {
   "cell_type": "code",
   "execution_count": null,
   "metadata": {},
   "outputs": [],
   "source": []
  }
 ],
 "metadata": {
  "kernelspec": {
   "display_name": "Python 3",
   "language": "python",
   "name": "python3"
  },
  "language_info": {
   "codemirror_mode": {
    "name": "ipython",
    "version": 3
   },
   "file_extension": ".py",
   "mimetype": "text/x-python",
   "name": "python",
   "nbconvert_exporter": "python",
   "pygments_lexer": "ipython3",
   "version": "3.8.3"
  }
 },
 "nbformat": 4,
 "nbformat_minor": 4
}
