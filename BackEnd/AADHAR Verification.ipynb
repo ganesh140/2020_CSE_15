{
 "cells": [
  {
   "cell_type": "code",
   "execution_count": 1,
   "metadata": {},
   "outputs": [],
   "source": [
    "import requests \n",
    "from bs4 import BeautifulSoup \n",
    "from selenium import webdriver \n",
    "from selenium.webdriver.common.keys import Keys \n",
    "import time \n",
    "from selenium.webdriver.support.ui import Select\n",
    "from webdriver_manager.chrome import ChromeDriverManager\n",
    "from chromedriver_py import binary_path"
   ]
  },
  {
   "cell_type": "code",
   "execution_count": 24,
   "metadata": {},
   "outputs": [],
   "source": [
    "l=[12341234123,329780254941]"
   ]
  },
  {
   "cell_type": "code",
   "execution_count": 25,
   "metadata": {},
   "outputs": [
    {
     "name": "stdout",
     "output_type": "stream",
     "text": [
      "display: block;\n",
      "invalid\n",
      "display: none;\n",
      "valid\n"
     ]
    }
   ],
   "source": [
    "url = \"https://resident.uidai.gov.in/verify\"\n",
    "  \n",
    "# initiating the webdriver. Parameter includes the path of the webdriver. \n",
    "driver = webdriver.Chrome(executable_path=binary_path)  \n",
    "driver.get(url)  \n",
    "# this is just to ensure that the page is loaded \n",
    "time.sleep(1)  \n",
    "html = driver.page_source \n",
    "for i in l:\n",
    "    inputElement = driver.find_element_by_id(\"uidno\")\n",
    "    inputElement.send_keys(i)\n",
    "    output= driver.find_element_by_class_name(\"errormsgClass\")\n",
    "    if(output.get_attribute(\"style\")==\"display: block;\"):\n",
    "        print(\"invalid\")\n",
    "    else:\n",
    "        print(\"valid\")\n",
    "    driver.find_element_by_id(\"uidno\").clear()"
   ]
  },
  {
   "cell_type": "code",
   "execution_count": null,
   "metadata": {},
   "outputs": [],
   "source": []
  }
 ],
 "metadata": {
  "kernelspec": {
   "display_name": "Python 3",
   "language": "python",
   "name": "python3"
  },
  "language_info": {
   "codemirror_mode": {
    "name": "ipython",
    "version": 3
   },
   "file_extension": ".py",
   "mimetype": "text/x-python",
   "name": "python",
   "nbconvert_exporter": "python",
   "pygments_lexer": "ipython3",
   "version": "3.8.3"
  }
 },
 "nbformat": 4,
 "nbformat_minor": 4
}
